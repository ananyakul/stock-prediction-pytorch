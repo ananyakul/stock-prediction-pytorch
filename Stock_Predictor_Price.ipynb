{
  "nbformat": 4,
  "nbformat_minor": 0,
  "metadata": {
    "colab": {
      "provenance": []
    },
    "kernelspec": {
      "name": "python3",
      "display_name": "Python 3"
    },
    "language_info": {
      "name": "python"
    }
  },
  "cells": [
    {
      "cell_type": "code",
      "execution_count": null,
      "metadata": {
        "id": "ZhwYDU12XOhS"
      },
      "outputs": [],
      "source": [
        "import torch\n",
        "import torch.nn as nn\n",
        "import numpy as np\n",
        "import pandas as pd\n",
        "from sklearn.preprocessing import MinMaxScaler\n",
        "from torch.utils.data import DataLoader, TensorDataset\n",
        "import yfinance as yf"
      ]
    },
    {
      "cell_type": "code",
      "source": [
        "# Fetch data for a specific stock, e.g., Apple Inc. with the ticker symbol 'AAPL'\n",
        "data = yf.download('AAPL', start='2020-01-01', end='2024-02-05')\n",
        "\n",
        "# Display the first few rows of the dataframe\n",
        "print(data.head())\n",
        "\n",
        "ticker = yf.Ticker('AAPL')\n",
        "\n",
        "# Get historical market data\n",
        "hist = ticker.history(period=\"max\")\n",
        "\n",
        "# Show actions (dividends, splits)\n",
        "actions = ticker.actions\n",
        "\n",
        "# Show dividends\n",
        "dividends = ticker.dividends\n",
        "\n",
        "# Show financials\n",
        "financials = ticker.financials\n",
        "\n",
        "data = yf.download('AAPL', start='2020-01-01', end='2024-02-05', interval=\"1mo\")"
      ],
      "metadata": {
        "colab": {
          "base_uri": "https://localhost:8080/"
        },
        "id": "S6DQxq83X_eF",
        "outputId": "de590272-14c2-45ba-f360-fc288e8f1f7d"
      },
      "execution_count": null,
      "outputs": [
        {
          "output_type": "stream",
          "name": "stderr",
          "text": [
            "\r[*********************100%%**********************]  1 of 1 completed\n"
          ]
        },
        {
          "output_type": "stream",
          "name": "stdout",
          "text": [
            "                 Open       High        Low      Close  Adj Close     Volume\n",
            "Date                                                                        \n",
            "2020-01-02  74.059998  75.150002  73.797501  75.087502  73.152649  135480400\n",
            "2020-01-03  74.287498  75.144997  74.125000  74.357498  72.441444  146322800\n",
            "2020-01-06  73.447502  74.989998  73.187500  74.949997  73.018684  118387200\n",
            "2020-01-07  74.959999  75.224998  74.370003  74.597504  72.675278  108872000\n",
            "2020-01-08  74.290001  76.110001  74.290001  75.797501  73.844353  132079200\n"
          ]
        },
        {
          "output_type": "stream",
          "name": "stderr",
          "text": [
            "\r[*********************100%%**********************]  1 of 1 completed\n"
          ]
        }
      ]
    },
    {
      "cell_type": "code",
      "source": [
        "# Use only the 'Close' column\n",
        "close_prices = data['Close'].values.reshape(-1, 1)\n",
        "\n",
        "# Normalize the data\n",
        "scaler = MinMaxScaler(feature_range=(-1, 1))\n",
        "close_prices_normalized = scaler.fit_transform(close_prices)\n",
        "\n",
        "# Convert to PyTorch tensors\n",
        "close_prices_normalized = torch.FloatTensor(close_prices_normalized).view(-1)\n"
      ],
      "metadata": {
        "id": "Mc0It1ZyXVAH"
      },
      "execution_count": null,
      "outputs": []
    },
    {
      "cell_type": "code",
      "source": [
        "\n",
        "def create_inout_sequences(input_data, tw):\n",
        "    inout_seq = []\n",
        "    L = len(input_data)\n",
        "    for i in range(L-tw):\n",
        "        train_seq = input_data[i:i+tw]\n",
        "        train_label = input_data[i+tw:i+tw+1]\n",
        "        inout_seq.append((train_seq, train_label))\n",
        "    return inout_seq\n",
        "\n",
        "# Define the sequence length\n",
        "seq_length = 5\n",
        "train_data = create_inout_sequences(close_prices_normalized, seq_length)\n",
        "train_loader = DataLoader(train_data, batch_size=1, shuffle=True)\n"
      ],
      "metadata": {
        "id": "DRNYz2DBYVZy"
      },
      "execution_count": null,
      "outputs": []
    },
    {
      "cell_type": "code",
      "source": [
        "class StockPredictor(nn.Module):\n",
        "    def __init__(self, input_size, hidden_layer_size=100, output_size=1):\n",
        "        super(StockPredictor, self).__init__()\n",
        "        self.fc1 = nn.Linear(input_size, hidden_layer_size)\n",
        "        self.relu = nn.ReLU()\n",
        "        self.fc2 = nn.Linear(hidden_layer_size, output_size)\n",
        "\n",
        "    def forward(self, x):\n",
        "        x = self.relu(self.fc1(x))\n",
        "        x = self.fc2(x)\n",
        "        return x\n",
        "\n",
        "model = StockPredictor(seq_length)\n"
      ],
      "metadata": {
        "id": "UOdMNTbtYYPR"
      },
      "execution_count": null,
      "outputs": []
    },
    {
      "cell_type": "code",
      "source": [
        "loss_function = nn.MSELoss()\n",
        "optimizer = torch.optim.Adam(model.parameters(), lr=0.001)\n",
        "\n",
        "epochs = 100\n",
        "for i in range(epochs):\n",
        "    for seq, labels in train_loader:\n",
        "        optimizer.zero_grad()\n",
        "        y_pred = model(seq)\n",
        "        single_loss = loss_function(y_pred, labels)\n",
        "        single_loss.backward()\n",
        "        optimizer.step()\n",
        "\n",
        "    if i%10 == 0:\n",
        "        print(f'epoch: {i:3} loss: {single_loss.item():10.8f}')\n"
      ],
      "metadata": {
        "colab": {
          "base_uri": "https://localhost:8080/"
        },
        "id": "TAUStC8JYbCt",
        "outputId": "484d0fe1-b2be-4acf-9af8-8baefcddaa33"
      },
      "execution_count": null,
      "outputs": [
        {
          "output_type": "stream",
          "name": "stdout",
          "text": [
            "epoch:   0 loss: 0.01224436\n",
            "epoch:  10 loss: 0.04678084\n",
            "epoch:  20 loss: 0.08376815\n",
            "epoch:  30 loss: 0.00006177\n",
            "epoch:  40 loss: 0.00001832\n",
            "epoch:  50 loss: 0.00056583\n",
            "epoch:  60 loss: 0.03044098\n",
            "epoch:  70 loss: 0.09287038\n",
            "epoch:  80 loss: 0.00219140\n",
            "epoch:  90 loss: 0.00450917\n"
          ]
        }
      ]
    },
    {
      "cell_type": "code",
      "source": [
        "with torch.no_grad():\n",
        "    pred_seq = close_prices_normalized[-seq_length:]\n",
        "    pred_seq = pred_seq.view(1, -1)\n",
        "    predicted_price_normalized = model(pred_seq)\n",
        "    predicted_price = scaler.inverse_transform(predicted_price_normalized.numpy())\n",
        "    print(f'Predicted price: {predicted_price}')\n"
      ],
      "metadata": {
        "colab": {
          "base_uri": "https://localhost:8080/"
        },
        "id": "WkFjdq2MYrp9",
        "outputId": "7b768b91-63da-4970-f160-d24b2c1ed9ca"
      },
      "execution_count": null,
      "outputs": [
        {
          "output_type": "stream",
          "name": "stdout",
          "text": [
            "Predicted price: [[182.2541]]\n"
          ]
        }
      ]
    }
  ]
}